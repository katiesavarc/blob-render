{
 "cells": [
  {
   "cell_type": "code",
   "execution_count": 1,
   "metadata": {},
   "outputs": [],
   "source": [
    "import sys\n",
    "sys.path.append(\"/Users/savard/PLUTO/pluto_playtime/plotting_analysis/\")\n",
    "sys.path.append(\"/Users/savard/PLUTO/\")\n",
    "import pyPLUTO as pypl\n",
    "import pyPLUTO.pload as pp\n",
    "import pandas as pd\n",
    "from pyplutplot import *\n",
    "wdir = '/pluto_playtime/data_storage/' #set up working directory where data is stored\n",
    "import matplotlib.pyplot as plt\n",
    "import scipy\n",
    "from scipy.interpolate import griddata"
   ]
  },
  {
   "attachments": {},
   "cell_type": "markdown",
   "metadata": {},
   "source": [
    "choose which timestep to use"
   ]
  },
  {
   "cell_type": "code",
   "execution_count": 2,
   "metadata": {},
   "outputs": [],
   "source": [
    "def tstep_to_days(t,dbl_step):\n",
    "    \"\"\"converts simulation steps into days.\n",
    "    assumes a fixed simulation time unit writing a step every multiple of dbl_step\n",
    "    \"\"\"\n",
    "    T_SIM_YEARS = 1.05*10**(-3)\n",
    "    d = t*T_SIM_YEARS*365*dbl_step\n",
    "    return d\n",
    "\n",
    "def days_to_tstep(days, dbl_step):\n",
    "    T_SIM_YEARS = 1.05*10**(-3)\n",
    "    t = days/(T_SIM_YEARS*365*dbl_step)\n",
    "    return t\n",
    "\n",
    "def gamma_to_beta(gamma):\n",
    "    beta = (1.-(gamma**-2))**0.5\n",
    "    return beta\n",
    "\n",
    "def beta_to_gamma(beta):\n",
    "    gamma = 1./((1.-beta**2)**0.5)\n",
    "    return gamma\n",
    "\n",
    "def theta_from_beta(beta):\n",
    "    theta = np.arccos(0.4/beta)*180/np.pi\n",
    "    return theta"
   ]
  },
  {
   "attachments": {},
   "cell_type": "markdown",
   "metadata": {},
   "source": [
    "Load in data from current simulation at given timestep"
   ]
  },
  {
   "cell_type": "code",
   "execution_count": 56,
   "metadata": {},
   "outputs": [],
   "source": [
    "image_timestep = 1"
   ]
  },
  {
   "cell_type": "code",
   "execution_count": 57,
   "metadata": {},
   "outputs": [
    {
     "name": "stdout",
     "output_type": "stream",
     "text": [
      "data type: flt\n",
      "Reading multiple variable files : /Users/savard/PLUTO/pluto_playtime/data_storage/ri0.001_rb0.02_lz2/rho.0001.flt\n",
      "Reading multiple variable files : /Users/savard/PLUTO/pluto_playtime/data_storage/ri0.001_rb0.02_lz2/vx1.0001.flt\n",
      "Reading multiple variable files : /Users/savard/PLUTO/pluto_playtime/data_storage/ri0.001_rb0.02_lz2/vx2.0001.flt\n",
      "Reading multiple variable files : /Users/savard/PLUTO/pluto_playtime/data_storage/ri0.001_rb0.02_lz2/vx3.0001.flt\n",
      "Reading multiple variable files : /Users/savard/PLUTO/pluto_playtime/data_storage/ri0.001_rb0.02_lz2/prs.0001.flt\n",
      "Reading multiple variable files : /Users/savard/PLUTO/pluto_playtime/data_storage/ri0.001_rb0.02_lz2/tr1.0001.flt\n",
      "Reading multiple variable files : /Users/savard/PLUTO/pluto_playtime/data_storage/ri0.001_rb0.02_lz2/tr2.0001.flt\n"
     ]
    }
   ],
   "source": [
    "kappa = 0.1 #fraction of pressure contribution to luminosity\n",
    "gamma = 2.0\n",
    "system_name = 'ri0.001_rb0.02_lz2'\n",
    "save_or_load = 'load'\n",
    "data_dir = '/pluto_playtime/data_storage/'+system_name+'/' #set up working directory where data is stored\n",
    "results_folder = '/Users/savard/PLUTO/pluto_playtime/plotting_analysis/sim_results/eht_scaled_sims'\n",
    "results_folder_sim = '/Users/savard/PLUTO/pluto_playtime/plotting_analysis/sim_results/{}'.format(system_name)\n",
    "D = load_data_obj(data_dir,image_timestep,data_type='flt')\n",
    "\n",
    "#to account for efficiency of pressure to luminosity conversion \n",
    "distance_in_pc = 2960\n",
    "angle_degrees = theta_from_beta(gamma_to_beta(gamma))\n",
    "viewing_angle = (2*np.pi)/360 *angle_degrees\n",
    "alpha= -0.507 #is this ok? already assumed for the luminosity conversion\n",
    "P_sim = 1.503*10**(-4) #kg m^-1 s^2\n",
    "L_sim = 1*10**9  #13 #m\n",
    "nu_observe = (86.0 * 1e9)#(1.28* 1e9) #1.28 GHz (Bright2020)\n",
    "eta=0.75\n",
    "exponent = (3-alpha)/2\n",
    "p = (4*exponent) - 5 #2.01\n"
   ]
  },
  {
   "cell_type": "code",
   "execution_count": 58,
   "metadata": {},
   "outputs": [],
   "source": [
    "file_disp = 'disp_array'+str(system_name)\n",
    "init_offset = 200\n",
    "d_vals = load_list(results_folder_sim,file_disp)+init_offset"
   ]
  },
  {
   "attachments": {},
   "cell_type": "markdown",
   "metadata": {},
   "source": [
    "plot the timestep to check its the right one"
   ]
  },
  {
   "cell_type": "code",
   "execution_count": 59,
   "metadata": {},
   "outputs": [
    {
     "data": {
      "text/plain": [
       "<matplotlib.colorbar.Colorbar at 0x7f88683c00f0>"
      ]
     },
     "execution_count": 59,
     "metadata": {},
     "output_type": "execute_result"
    },
    {
     "data": {
      "image/png": "[encoded data removed]",
      "text/plain": [
       "<Figure size 432x720 with 2 Axes>"
      ]
     },
     "metadata": {
      "needs_background": "light"
     },
     "output_type": "display_data"
    }
   ],
   "source": [
    "fig = plt.figure(figsize=[6,10])\n",
    "#psuedo emissivity\n",
    "\n",
    "v = D.tr1*((kappa*D.prs)**exponent)\n",
    "x1 = D.x1\n",
    "x2 = D.x2\n",
    "plt.pcolormesh(x1,x2,v.T,shading='auto')\n",
    "plt.scatter(0,d_vals[image_timestep])\n",
    "#plt.pcolormesh(-ax1,ax2,var.T,shading='auto')\n",
    "plt.colorbar()"
   ]
  },
  {
   "attachments": {},
   "cell_type": "markdown",
   "metadata": {},
   "source": [
    "now crop the image such that we dont have to integrate/interpolate too far -- want to detect the last relevant pixels"
   ]
  },
  {
   "cell_type": "code",
   "execution_count": 60,
   "metadata": {},
   "outputs": [],
   "source": [
    "plt.close()\n",
    "del fig"
   ]
  },
  {
   "cell_type": "code",
   "execution_count": 61,
   "metadata": {},
   "outputs": [
    {
     "name": "stdout",
     "output_type": "stream",
     "text": [
      "[1.3716731e-10 8.3983404e-11 4.0970314e-11 ... 0.0000000e+00 0.0000000e+00\n",
      " 0.0000000e+00]\n",
      "ht minimum vertical size: resorting to default size\n",
      "hit minimum lateral size: resorting to default size\n",
      "1873\n",
      "573\n",
      "650\n"
     ]
    }
   ],
   "source": [
    "##find top limit\n",
    "\n",
    "crop_traditional = True\n",
    "\n",
    "if crop_traditional:\n",
    "    is_zero = True #want this to turn false before true again \n",
    "    stop_index_top = 0\n",
    "    for index, xrow in enumerate(v.T):\n",
    "        if np.any(xrow):\n",
    "            is_zero = False\n",
    "        if not np.any(xrow) and not is_zero:\n",
    "            stop_index_top = index\n",
    "            break\n",
    "\n",
    "\n",
    "    ### find bottom limit\n",
    "\n",
    "    detection_limit = 1e-10\n",
    "\n",
    "    is_zero = True #want this to turn false before true again \n",
    "    stop_index_bottom = 0\n",
    "    for index, xrow in enumerate(v.T):\n",
    "        if np.any(xrow):\n",
    "            if np.max(xrow)>detection_limit:\n",
    "                is_zero = False\n",
    "                stop_index_bottom = index\n",
    "                print(xrow)\n",
    "                break\n",
    "\n",
    "    #### find side limit\n",
    "\n",
    "    detection_limit = 1e-10\n",
    "\n",
    "    is_zero = True #want this to turn false before true again \n",
    "    stop_index_side = 0\n",
    "    for index, yrow in reversed(list(enumerate(v))):\n",
    "        if np.any(yrow):\n",
    "            if np.max(yrow)>detection_limit:\n",
    "                is_zero = False\n",
    "                stop_index_side = index\n",
    "                break\n",
    "\n",
    "    buffer_size = 100\n",
    "    minimum_size = 1300\n",
    "\n",
    "    stop_index_top = stop_index_top + buffer_size\n",
    "    stop_index_bottom = stop_index_bottom - buffer_size\n",
    "    stop_index_side = stop_index_side + buffer_size\n",
    "\n",
    "\n",
    "    vdiff = stop_index_top-stop_index_bottom\n",
    "    if vdiff<minimum_size:\n",
    "        print('ht minimum vertical size: resorting to default size')\n",
    "        stop_index_bottom = stop_index_bottom+(int(vdiff/2))-(int(minimum_size/2))\n",
    "        stop_index_top = stop_index_top-(int(vdiff/2))+(int(minimum_size/2))\n",
    "\n",
    "    if stop_index_side<int(minimum_size/2):\n",
    "        print(\"hit minimum lateral size: resorting to default size\")\n",
    "        stop_index_side = int(minimum_size/2)\n",
    "\n",
    "\n",
    "    print(stop_index_top)\n",
    "    print(stop_index_bottom)\n",
    "    print(stop_index_side)"
   ]
  },
  {
   "cell_type": "markdown",
   "metadata": {},
   "source": [
    "Alternative: minimum size for all images but centered on the emission centroid"
   ]
  },
  {
   "cell_type": "code",
   "execution_count": 62,
   "metadata": {},
   "outputs": [],
   "source": [
    "crop = True\n",
    "if crop:\n",
    "    stop_index_side = 650\n",
    "    minimum_size = 1300\n",
    "    stop_index_bottom = (int(d_vals[image_timestep])*6-int(minimum_size/2))\n",
    "    stop_index_top = int(d_vals[image_timestep])*6+int(minimum_size/2)\n",
    "    stop_index_bottom"
   ]
  },
  {
   "attachments": {},
   "cell_type": "markdown",
   "metadata": {},
   "source": [
    "resize variables"
   ]
  },
  {
   "cell_type": "code",
   "execution_count": 63,
   "metadata": {},
   "outputs": [
    {
     "data": {
      "image/png": "[encoded data removed]",
      "text/plain": [
       "<Figure size 504x504 with 2 Axes>"
      ]
     },
     "metadata": {
      "needs_background": "light"
     },
     "output_type": "display_data"
    }
   ],
   "source": [
    "if crop:\n",
    "    fig = plt.figure(figsize=[7,7])\n",
    "    #psuedo emissivity\n",
    "    em = ((D.tr1*((kappa*D.prs)**exponent))[:stop_index_side].T[stop_index_bottom:stop_index_top]).T #psuedo emissivity, 2D array \n",
    "    ax1 = D.x1[:stop_index_side]\n",
    "    ax2 = D.x2[stop_index_bottom:stop_index_top]\n",
    "    plt.pcolormesh(ax1,ax2,em.T,shading='auto')\n",
    "    plt.pcolormesh(-ax1,ax2,em.T,shading='auto')\n",
    "    plt.scatter(0,d_vals[image_timestep+1])\n",
    "\n",
    "    ax = plt.gca()\n",
    "    ax.set_aspect('equal', adjustable='box')\n",
    "    #plt.pcolormesh(-ax1,ax2,var.T,shading='auto')\n",
    "    plt.colorbar()\n",
    "else:\n",
    "    em = (D.tr1*((kappa*D.prs)**exponent)).T #psuedo emissivity, 2D array \n",
    "    ax1 = D.x1\n",
    "    ax2 = D.x2"
   ]
  },
  {
   "cell_type": "code",
   "execution_count": 46,
   "metadata": {},
   "outputs": [
    {
     "data": {
      "text/plain": [
       "572"
      ]
     },
     "execution_count": 46,
     "metadata": {},
     "output_type": "execute_result"
    }
   ],
   "source": [
    "int(d_vals[image_timestep])"
   ]
  },
  {
   "cell_type": "code",
   "execution_count": 12,
   "metadata": {},
   "outputs": [
    {
     "data": {
      "text/plain": [
       "1300"
      ]
     },
     "execution_count": 12,
     "metadata": {},
     "output_type": "execute_result"
    }
   ],
   "source": [
    "len(ax2)"
   ]
  },
  {
   "cell_type": "code",
   "execution_count": 35,
   "metadata": {},
   "outputs": [],
   "source": [
    "plt.close()\n",
    "del fig"
   ]
  },
  {
   "cell_type": "markdown",
   "metadata": {},
   "source": [
    "Turn 2D cylindrical slice into 3D cartesian:"
   ]
  },
  {
   "cell_type": "code",
   "execution_count": 36,
   "metadata": {},
   "outputs": [],
   "source": [
    "r = ax1 #r, 160 vals\n",
    "z = ax2 #z, 1600 vals\n",
    "theta = np.linspace(0,np.pi/2,130) #create some theta to wrap it around pi/2, arbitrary number of steps for now\n",
    "#R, Z, THETA = np.meshgrid(r,z,theta) #all have the same shape (1600,160,320)\n",
    "#EMIS = np.dstack([values]*len(theta)) #stack 2D emissivity as the same slice for every theta, cylindrically symmetric"
   ]
  },
  {
   "cell_type": "markdown",
   "metadata": {},
   "source": [
    "add in doppler boosting factor to"
   ]
  },
  {
   "cell_type": "code",
   "execution_count": 37,
   "metadata": {},
   "outputs": [],
   "source": [
    "def angle_to_boost(angle,beta):\n",
    "    gamma = (1-(beta**2))**(-0.5)\n",
    "    #change minus sign for approaching (-) or receding (+) jet\n",
    "    delta = (gamma**(-1))*(1.0-beta*np.cos(angle))**(-1)\n",
    "    return delta\n",
    "\n",
    "def doppler_boost_lum(beta,viewing_angle,alpha,lum):\n",
    "    delta = angle_to_boost(viewing_angle,beta)\n",
    "    boosted_lum = lum*(delta**(2-alpha))\n",
    "    return boosted_lum\n",
    "\n",
    "if crop:\n",
    "    beta = (D.vx2[:stop_index_side].T[stop_index_bottom:stop_index_top]).T\n",
    "else:\n",
    "    beta = D.vx2\n",
    "values = doppler_boost_lum(beta,viewing_angle,alpha,em)\n"
   ]
  },
  {
   "cell_type": "code",
   "execution_count": 38,
   "metadata": {},
   "outputs": [
    {
     "data": {
      "text/plain": [
       "(650, 1300)"
      ]
     },
     "execution_count": 38,
     "metadata": {},
     "output_type": "execute_result"
    }
   ],
   "source": [
    "np.shape(values)"
   ]
  },
  {
   "cell_type": "code",
   "execution_count": 39,
   "metadata": {},
   "outputs": [
    {
     "data": {
      "text/plain": [
       "(650,)"
      ]
     },
     "execution_count": 39,
     "metadata": {},
     "output_type": "execute_result"
    }
   ],
   "source": [
    "np.shape(ax1)"
   ]
  },
  {
   "cell_type": "code",
   "execution_count": 40,
   "metadata": {},
   "outputs": [],
   "source": [
    "def cyl_to_cart(r,z,theta):\n",
    "    x = r*np.cos(theta)\n",
    "    y = r*np.sin(theta)\n",
    "    z = z\n",
    "    return x, y, z"
   ]
  },
  {
   "cell_type": "code",
   "execution_count": 41,
   "metadata": {},
   "outputs": [],
   "source": [
    "#iteration vars\n",
    "theta_len = len(theta)\n",
    "z_len = len(z)\n",
    "r_len = len(r)"
   ]
  },
  {
   "cell_type": "markdown",
   "metadata": {},
   "source": []
  },
  {
   "cell_type": "code",
   "execution_count": 42,
   "metadata": {},
   "outputs": [],
   "source": [
    "# creating long 2D arrays which correspond to each point in the frame -> ordered by constant z \n",
    "rr = []\n",
    "zz = []\n",
    "tt = []\n",
    "ll = []\n",
    "\n",
    "for i in range(z_len):\n",
    "    #constant z iteration\n",
    "    z_ordered = []\n",
    "    r_ordered = []\n",
    "    l_ordered = []\n",
    "    theta_ordered = []\n",
    "    for j in range(r_len):\n",
    "        #constant r iteration with all theta\n",
    "        arr_z = np.repeat(z[i],theta_len).tolist()\n",
    "        arr_r = np.repeat(r[j],theta_len).tolist()\n",
    "        arr_l = np.repeat(values[j][i],theta_len).tolist()\n",
    "        r_ordered.append(arr_r) # r at i (const in j loop)\n",
    "        z_ordered.append(arr_z) # z at j (iterating through const r)\n",
    "        theta_ordered.append(theta) # for all theta\n",
    "        l_ordered.append(arr_l)\n",
    "    rr.append(np.asarray(r_ordered).flatten())\n",
    "    zz.append(np.asarray(z_ordered).flatten())\n",
    "    ll.append(np.asarray(l_ordered).flatten())\n",
    "    tt.append(np.asarray(theta_ordered).flatten())"
   ]
  },
  {
   "cell_type": "code",
   "execution_count": 43,
   "metadata": {},
   "outputs": [],
   "source": [
    "#convert to cartesian:\n",
    "x_cart, y_cart, z_cart = cyl_to_cart(rr, zz, tt)"
   ]
  },
  {
   "cell_type": "code",
   "execution_count": 44,
   "metadata": {},
   "outputs": [],
   "source": [
    "z_ordered = []\n",
    "#x_ordered = []\n",
    "#y_ordered = []\n",
    "#l_ordered = []\n",
    "num_z = len(ax2)\n",
    "num_xtheta = len(ax1)*len(theta)\n",
    "\n",
    "for i in range(num_z):\n",
    "    z_ = z_cart[(0+(num_xtheta*i)):(0+(num_xtheta*(i+1)))]\n",
    "    z_ordered.append(z_)\n",
    "    #x_ = x_cart[(0+(num_xtheta*i)):(0+(num_xtheta*(i+1)))]\n",
    "    #x_ordered.append(x_)\n",
    "    #y_ = y_cart[(0+(num_xtheta*i)):(0+(num_xtheta*(i+1)))]\n",
    "    #y_ordered.append(y_)\n",
    "    #l_ = ll[(0+(num_xtheta*i)):(0+(num_xtheta*(i+1)))]\n",
    "    #l_ordered.append(l_)\n"
   ]
  },
  {
   "cell_type": "code",
   "execution_count": 45,
   "metadata": {},
   "outputs": [
    {
     "data": {
      "text/plain": [
       "Text(0.5, 1.0, 'original cylindrical grid')"
      ]
     },
     "execution_count": 45,
     "metadata": {},
     "output_type": "execute_result"
    },
    {
     "data": {
      "image/png": "[encoded data removed]",
      "text/plain": [
       "<Figure size 720x720 with 1 Axes>"
      ]
     },
     "metadata": {
      "needs_background": "light"
     },
     "output_type": "display_data"
    }
   ],
   "source": [
    "fig = plt.figure(figsize=(10,10))\n",
    "plt.scatter(x_cart[100],y_cart[100],s=30,c=ll[100])\n",
    "plt.title('original cylindrical grid')"
   ]
  },
  {
   "cell_type": "code",
   "execution_count": 46,
   "metadata": {},
   "outputs": [],
   "source": [
    "plt.close()\n",
    "del fig"
   ]
  },
  {
   "cell_type": "markdown",
   "metadata": {},
   "source": [
    "Create a new 2D grid, the same resolution as the original 2D image, to interpolate onto"
   ]
  },
  {
   "cell_type": "code",
   "execution_count": 47,
   "metadata": {},
   "outputs": [],
   "source": [
    "#create new grid 2D to interpolate on\n",
    "x_max = y_max = np.max(r)\n",
    "grid_size = r[1]-r[0]\n",
    "r_len = len(r)\n",
    "#the spacing of the goal grid is the same as the original 2D cylindrical grid\n",
    "x_ar = np.linspace(-(grid_size/2),x_max,r_len+1)[1:]\n",
    "y_ar = np.linspace(-(grid_size/2),y_max,r_len+1)[1:]\n",
    "grid_x, grid_y = np.meshgrid(x_ar,y_ar)"
   ]
  },
  {
   "cell_type": "code",
   "execution_count": 48,
   "metadata": {},
   "outputs": [
    {
     "data": {
      "text/plain": [
       "Text(0.5, 1.0, 'cartesian grid to interpolate on')"
      ]
     },
     "execution_count": 48,
     "metadata": {},
     "output_type": "execute_result"
    },
    {
     "data": {
      "image/png": "[encoded data removed]",
      "text/plain": [
       "<Figure size 720x720 with 1 Axes>"
      ]
     },
     "metadata": {
      "needs_background": "light"
     },
     "output_type": "display_data"
    }
   ],
   "source": [
    "fig = plt.figure(figsize=(10,10))\n",
    "plt.plot(grid_x,grid_y,'o',markersize=0.8,color='green')\n",
    "plt.title('cartesian grid to interpolate on')"
   ]
  },
  {
   "cell_type": "code",
   "execution_count": 49,
   "metadata": {},
   "outputs": [],
   "source": [
    "plt.close()\n",
    "del fig"
   ]
  },
  {
   "cell_type": "markdown",
   "metadata": {},
   "source": [
    "No run the interpolator over all slices of the frame:"
   ]
  },
  {
   "cell_type": "markdown",
   "metadata": {},
   "source": [
    "Flatten and save the output of the interpolator, \n",
    "and integrate over all slices to return a 2D image:"
   ]
  },
  {
   "cell_type": "code",
   "execution_count": 50,
   "metadata": {},
   "outputs": [],
   "source": [
    "def loader_bar(i,range,modulo): #just for output purposes\n",
    "    perc = int((i/range)*100)\n",
    "    prev_perc = int(((i-1)/range)*100)\n",
    "    if i==0:\n",
    "        s = str(0)+\"%\"\n",
    "        print(s,end=\"...\",flush=True)\n",
    "    if perc%modulo==0 and perc!=prev_perc:\n",
    "        s = str(perc)+\"%\"\n",
    "        print(s,end=\"...\",flush=True)\n",
    "        prev_perc=perc+modulo"
   ]
  },
  {
   "cell_type": "code",
   "execution_count": 51,
   "metadata": {},
   "outputs": [
    {
     "name": "stdout",
     "output_type": "stream",
     "text": [
      "loading\n"
     ]
    }
   ],
   "source": [
    "if save_or_load=='save':\n",
    "    interps = []\n",
    "    iter_num = len(z_ordered)\n",
    "    for i in range(iter_num):\n",
    "        loader_bar(i,iter_num,5)\n",
    "        x_arr = x_cart[i].flatten() #160x130 points -> 20800\n",
    "        y_arr = y_cart[i].flatten()\n",
    "        points = (x_arr,y_arr)\n",
    "        values = ll[i].flatten()\n",
    "        interp_grid = (grid_x,grid_y)\n",
    "        interp = griddata(points,values,interp_grid,method='linear')\n",
    "        interps.append(interp)\n",
    "    interp_clean = np.nan_to_num(interps) #remove all nans and turn them into zeros for the sake of integration \n",
    "    save_list(np.asarray(interp_clean),results_folder,'interpolated_frame_'+system_name+'_'+str(image_timestep))\n",
    "    len(interp_clean)\n",
    "    integrated_frames = []\n",
    "    pixel_vol = (grid_size)**3 #multiply by the volume of each pixel when integrating\n",
    "    for frame in interp_clean:\n",
    "        integrated_frame = np.sum(frame,axis=0)*pixel_vol*2\n",
    "        integrated_frames.append(integrated_frame)\n",
    "    save_list(np.asarray(integrated_frames),results_folder,'integrated_frame_'+system_name+'_'+str(image_timestep))\n",
    "elif save_or_load=='load':\n",
    "    print(\"loading\")\n",
    "    interp_clean = load_list(results_folder,'interpolated_frame_'+system_name+'_'+str(image_timestep))\n",
    "    integrated_frames = load_list(results_folder,'integrated_frame_'+system_name+'_'+str(image_timestep))"
   ]
  },
  {
   "cell_type": "markdown",
   "metadata": {},
   "source": [
    "Plot the output of theinterpolator for a single slice:"
   ]
  },
  {
   "cell_type": "code",
   "execution_count": 52,
   "metadata": {},
   "outputs": [
    {
     "name": "stderr",
     "output_type": "stream",
     "text": [
      "/Users/savard/opt/anaconda3/envs/lower_python_env/lib/python3.6/site-packages/ipykernel_launcher.py:3: MatplotlibDeprecationWarning: shading='flat' when X and Y have the same dimensions as C is deprecated since 3.3.  Either specify the corners of the quadrilaterals with X and Y, or pass shading='auto', 'nearest' or 'gouraud', or set rcParams['pcolor.shading'].  This will become an error two minor releases later.\n",
      "  This is separate from the ipykernel package so we can avoid doing imports until\n"
     ]
    },
    {
     "data": {
      "text/plain": [
       "<matplotlib.collections.PathCollection at 0x7fcf9cdb8908>"
      ]
     },
     "execution_count": 52,
     "metadata": {},
     "output_type": "execute_result"
    },
    {
     "data": {
      "image/png": "[encoded data removed]",
      "text/plain": [
       "<Figure size 720x720 with 1 Axes>"
      ]
     },
     "metadata": {
      "needs_background": "light"
     },
     "output_type": "display_data"
    }
   ],
   "source": [
    "slice_index = 640\n",
    "plt.figure(figsize=(10,10))\n",
    "plt.pcolormesh(grid_x,grid_y,interp_clean[slice_index]*1e8,shading='flat')\n",
    "plt.scatter(grid_x,grid_y,s=0.001,color='black')"
   ]
  },
  {
   "cell_type": "markdown",
   "metadata": {},
   "source": [
    "Lots on NANs in the data are there because of extremely small values of emissivity due to the tracer, they can be essentailly replaced with zeroes. "
   ]
  },
  {
   "cell_type": "code",
   "execution_count": 53,
   "metadata": {},
   "outputs": [
    {
     "name": "stdout",
     "output_type": "stream",
     "text": [
      "saving new figure!!\n"
     ]
    },
    {
     "data": {
      "image/png": "[encoded data removed]",
      "text/plain": [
       "<Figure size 504x288 with 2 Axes>"
      ]
     },
     "metadata": {
      "needs_background": "light"
     },
     "output_type": "display_data"
    }
   ],
   "source": [
    "#psuedo emissivity\n",
    "#trim = 1112\n",
    "\n",
    "#psuedo emissivity\n",
    "#trim = 1112\n",
    "fsize = [7,4]\n",
    "\n",
    "ax1 = D.x1[:stop_index_side]\n",
    "ax2 = D.x2[stop_index_bottom:stop_index_top]\n",
    "scale = len(ax2)/(len(ax1)*2)\n",
    "plt.figure(figsize=fsize)\n",
    "em = ((D.tr1*((kappa*D.prs)**exponent))[:stop_index_side].T[stop_index_bottom:stop_index_top]).T #psuedo emissivity, 2D array \n",
    "\n",
    "plt.pcolormesh(ax1,ax2,em.T,shading='auto')\n",
    "plt.pcolormesh(-ax1,ax2,em.T,shading='auto')\n",
    "#plt.pcolormesh(-ax1,ax2,var.T,shading='auto')\n",
    "cbar = plt.colorbar()\n",
    "\n",
    "ax = plt.gca()\n",
    "ax.set_aspect('equal', adjustable='box')\n",
    "\n",
    "plt.title('flat-sim pseudo-emissivity')\n",
    "plt.xlabel('x (sim units)')\n",
    "plt.ylabel('displacement (sim units)')\n",
    "cbar.set_label('pseudo-emissivity per pixel')\n",
    "\n",
    "save=True\n",
    "name = 'flat_frame_'+system_name+'_'+str(image_timestep)\n",
    "save_fig(results_folder,name,overwrite=save)"
   ]
  },
  {
   "cell_type": "code",
   "execution_count": 55,
   "metadata": {},
   "outputs": [
    {
     "name": "stdout",
     "output_type": "stream",
     "text": [
      "0%...5%...10%...15%...20%...25%...30%...35%...40%...45%...50%...55%...60%...65%...70%...75%...80%...85%...90%...95%..."
     ]
    }
   ],
   "source": [
    "def loader_bar(i,range,modulo):\n",
    "    perc = int((i/range)*100)\n",
    "    prev_perc = int(((i-1)/range)*100)\n",
    "    if i==0:\n",
    "        s = str(0)+\"%\"\n",
    "        print(s,end=\"...\",flush=True)\n",
    "    if perc%modulo==0 and perc!=prev_perc:\n",
    "        s = str(perc)+\"%\"\n",
    "        print(s,end=\"...\",flush=True)\n",
    "        prev_perc=perc+modulo\n",
    "\n",
    "\n",
    "\n",
    "r = 1300\n",
    "for i in range(r):\n",
    "    loader_bar(i,r,5)"
   ]
  },
  {
   "cell_type": "code",
   "execution_count": null,
   "metadata": {},
   "outputs": [],
   "source": []
  },
  {
   "cell_type": "code",
   "execution_count": 56,
   "metadata": {},
   "outputs": [
    {
     "name": "stdout",
     "output_type": "stream",
     "text": [
      "saving new figure!!\n"
     ]
    },
    {
     "data": {
      "image/png": "[encoded data removed]",
      "text/plain": [
       "<Figure size 504x288 with 2 Axes>"
      ]
     },
     "metadata": {
      "needs_background": "light"
     },
     "output_type": "display_data"
    }
   ],
   "source": [
    "\n",
    "\n",
    "scale = len(ax2)/(len(ax1)*2)\n",
    "plt.figure(figsize=fsize)\n",
    "plt.pcolormesh(ax1,ax2,integrated_frames,shading='auto')\n",
    "plt.pcolormesh(-ax1,ax2,integrated_frames,shading='auto')\n",
    "cbar = plt.colorbar()\n",
    "\n",
    "plt.title('rotated pseudo-emissivity')\n",
    "plt.xlabel('x (sim units)')\n",
    "plt.ylabel('displacement (sim units)')\n",
    "cbar.set_label('pseudo-emissivity per pixel')\n",
    "ax = plt.gca()\n",
    "ax.set_aspect('equal', adjustable='box')\n",
    "\n",
    "\n",
    "save = True\n",
    "\n",
    "name = 'rotated_frame_'+system_name+'_'+str(image_timestep)\n",
    "save_fig(results_folder,name,overwrite=save)"
   ]
  },
  {
   "cell_type": "markdown",
   "metadata": {},
   "source": [
    "### Comparing with non-interpolated frames"
   ]
  },
  {
   "cell_type": "markdown",
   "metadata": {},
   "source": [
    "Rotate each cell and integrate and compare the total luminosity:"
   ]
  },
  {
   "cell_type": "code",
   "execution_count": 57,
   "metadata": {},
   "outputs": [
    {
     "data": {
      "text/plain": [
       "5.4930376628365964e-05"
      ]
     },
     "execution_count": 57,
     "metadata": {},
     "output_type": "execute_result"
    }
   ],
   "source": [
    "interp_total_lum = np.sum(integrated_frames)\n",
    "interp_total_lum*2"
   ]
  },
  {
   "cell_type": "code",
   "execution_count": 58,
   "metadata": {},
   "outputs": [],
   "source": [
    "def image_to_lum(D):\n",
    "    lum = np.empty(shape=(len(ax1),len(ax2)))\n",
    "    grid_size=ax1[4]-ax1[3]\n",
    "    for i, rad in enumerate(ax1):\n",
    "        for j, y in enumerate(ax2):\n",
    "            emis = em[i][j]\n",
    "            lum[i][j] = emis*(2*np.pi*rad)*(grid_size**2)\n",
    "    return lum\n",
    "\n",
    "\n",
    "def image_to_lum_boost(D,viewing_angle,alpha,kappa):\n",
    "    emis = em\n",
    "    beta = (D.vx2[:stop_index_side].T[stop_index_bottom:stop_index_top]).T\n",
    "    boosted_lum = doppler_boost_lum(beta,viewing_angle,alpha,emis)\n",
    "    grid_size=ax1[4]-ax1[3]\n",
    "    rad , z = np.meshgrid(ax1,ax2)\n",
    "    lum = boosted_lum*2*np.pi*rad.T*(grid_size**2)\n",
    "    return lum"
   ]
  },
  {
   "cell_type": "code",
   "execution_count": 59,
   "metadata": {},
   "outputs": [
    {
     "data": {
      "text/plain": [
       "5.493022253009965e-05"
      ]
     },
     "execution_count": 59,
     "metadata": {},
     "output_type": "execute_result"
    }
   ],
   "source": [
    "non_interp_total_lum = np.sum(image_to_lum_boost(D,viewing_angle,alpha,kappa))\n",
    "non_interp_total_lum"
   ]
  },
  {
   "cell_type": "markdown",
   "metadata": {},
   "source": [
    "### Convert to Janskys! "
   ]
  },
  {
   "cell_type": "markdown",
   "metadata": {},
   "source": [
    "Specify simulation units and desired observational frequency, also departure from equipartition"
   ]
  },
  {
   "cell_type": "code",
   "execution_count": 60,
   "metadata": {},
   "outputs": [],
   "source": [
    "from pluto_luminosity_conversion import *\n",
    "\n",
    "lum_real_unit = lum_unit_si(eta=0.75,P=P_sim,L=L_sim,nu=nu_observe, q=p) #W Hz^-1 sr^-1"
   ]
  },
  {
   "cell_type": "code",
   "execution_count": 61,
   "metadata": {},
   "outputs": [],
   "source": [
    "lum_sim = np.asarray(integrated_frames)\n",
    "lum_true = lum_sim*lum_real_unit # W Hz^-1 sr^-1\n",
    "lum_jansky = lum_true*(10**26)*np.pi*4 # 10^26 W Hz^-1  -> 10^-26 W m^-2 Hz^-1 = 1 jansky \n",
    "\n",
    "distance = distance_in_pc*3.086*(10**16) # convert parsec to m \n",
    "\n",
    "lum_jansky_far = np.asarray(lum_jansky / (4*np.pi*(distance**2)),dtype='float64')\n",
    "boosted_lum = lum_jansky_far\n",
    "save_list(boosted_lum,results_folder,'pixel_lum_'+system_name+'_'+str(image_timestep)+'_'+str(nu_observe/(1e9))+str('GHz'))\n"
   ]
  },
  {
   "cell_type": "markdown",
   "metadata": {},
   "source": [
    "Total integrated luminosity:"
   ]
  },
  {
   "cell_type": "markdown",
   "metadata": {},
   "source": [
    "~85% resolved out flux density at 1.7mJy from observations at zeroth timestep "
   ]
  },
  {
   "cell_type": "code",
   "execution_count": null,
   "metadata": {},
   "outputs": [],
   "source": [
    "etot = 4e44\n",
    "delta_t "
   ]
  },
  {
   "cell_type": "code",
   "execution_count": 62,
   "metadata": {},
   "outputs": [
    {
     "name": "stdout",
     "output_type": "stream",
     "text": [
      "total luminosity in frame in mJy: 2.0563410839586975\n"
     ]
    }
   ],
   "source": [
    "frame_flux = np.sum((boosted_lum*10**3))*2\n",
    "print('total luminosity in frame in mJy: '+str(frame_flux))"
   ]
  },
  {
   "cell_type": "code",
   "execution_count": 63,
   "metadata": {},
   "outputs": [
    {
     "name": "stdout",
     "output_type": "stream",
     "text": [
      "data type: flt\n",
      "Reading multiple variable files : /Users/savard/PLUTO/pluto_playtime/data_storage/ri0.001_rb0.02_lz2/rho.0000.flt\n",
      "Reading multiple variable files : /Users/savard/PLUTO/pluto_playtime/data_storage/ri0.001_rb0.02_lz2/vx1.0000.flt\n",
      "Reading multiple variable files : /Users/savard/PLUTO/pluto_playtime/data_storage/ri0.001_rb0.02_lz2/vx2.0000.flt\n",
      "Reading multiple variable files : /Users/savard/PLUTO/pluto_playtime/data_storage/ri0.001_rb0.02_lz2/vx3.0000.flt\n",
      "Reading multiple variable files : /Users/savard/PLUTO/pluto_playtime/data_storage/ri0.001_rb0.02_lz2/prs.0000.flt\n",
      "Reading multiple variable files : /Users/savard/PLUTO/pluto_playtime/data_storage/ri0.001_rb0.02_lz2/tr1.0000.flt\n",
      "Reading multiple variable files : /Users/savard/PLUTO/pluto_playtime/data_storage/ri0.001_rb0.02_lz2/tr2.0000.flt\n",
      "data type: flt\n",
      "Reading multiple variable files : /Users/savard/PLUTO/pluto_playtime/data_storage/ri0.001_rb0.02_lz2/rho.0001.flt\n",
      "Reading multiple variable files : /Users/savard/PLUTO/pluto_playtime/data_storage/ri0.001_rb0.02_lz2/vx1.0001.flt\n",
      "Reading multiple variable files : /Users/savard/PLUTO/pluto_playtime/data_storage/ri0.001_rb0.02_lz2/vx2.0001.flt\n",
      "Reading multiple variable files : /Users/savard/PLUTO/pluto_playtime/data_storage/ri0.001_rb0.02_lz2/vx3.0001.flt\n",
      "Reading multiple variable files : /Users/savard/PLUTO/pluto_playtime/data_storage/ri0.001_rb0.02_lz2/prs.0001.flt\n",
      "Reading multiple variable files : /Users/savard/PLUTO/pluto_playtime/data_storage/ri0.001_rb0.02_lz2/tr1.0001.flt\n",
      "Reading multiple variable files : /Users/savard/PLUTO/pluto_playtime/data_storage/ri0.001_rb0.02_lz2/tr2.0001.flt\n",
      "[5.4930222530099685e-05, 6.884209259130981e-05]\n",
      "2960\n",
      "Initial lum: 2.056335315227163 mJy\n"
     ]
    }
   ],
   "source": [
    "dtype='flt'\n",
    "\n",
    "def image_to_lum(D,viewing_angle,alpha,kappa,boost=True):\n",
    "    \"\"\"calculates psudo emissivity of a simulation frame, and applies doppler boosting (if boost=True).\n",
    "    the emissivity is then rotated and integrated to get a total emissivity of a frame in 3D.\n",
    "    return a value of total emission in frame. \n",
    "    \"\"\"\n",
    "    emis = D.tr1*((kappa*(D.prs))**exponent)\n",
    "    beta = D.vx2\n",
    "    if boost:\n",
    "        boosted_lum = doppler_boost_lum(beta,viewing_angle,alpha,emis)\n",
    "    else:\n",
    "        boosted_lum = emis\n",
    "    grid_area = (D.x1[4]-D.x1[3])*(D.x2[4]-D.x2[3])\n",
    "    rad , z = np.meshgrid(D.x1,D.x2) #format radius matrix to quickly multiply\n",
    "    lum = boosted_lum*2*np.pi*rad.T*(grid_area) #rotate and integrate luminosity in cylindrical coords\n",
    "    return lum\n",
    "\n",
    "def total_lums(data_dir,viewing_angle,alpha,kappa,boost=True,first=False):\n",
    "    \"\"\"for each frame of a simulation, calculate the total emissivity per frame (doppler boosted\n",
    "    if boost=True)\n",
    "    \"\"\"\n",
    "    if first:\n",
    "        max_step = 1\n",
    "    else:\n",
    "        max_step = get_max_step(data_dir)\n",
    "    total_lums = []\n",
    "    for i in range(max_step+1):\n",
    "        D = load_data_obj(data_dir,i,data_type=dtype)\n",
    "        lum = image_to_lum(D,viewing_angle,alpha,kappa,boost)\n",
    "        total_lums.append(np.sum(lum))\n",
    "    return total_lums\n",
    "\n",
    "def lum_sim_to_jansky(lum,distance_in_pc):\n",
    "    \"\"\"converts from emissivity to janskys given some constant simulation units\n",
    "    \"\"\"\n",
    "    P_SIM = 1.503*10**(-4) #in kg m^-1 s^2\n",
    "    L_SIM = 1*10**13 #in meters\n",
    "    NU_OBS = (1.28 * 1e9) #1.28 GHz (Bright2020)\n",
    "    ETA = 0.75 #equipartition\n",
    "    distance = distance_in_pc*3.086*(10**16) # convert parsec to m \n",
    "    print(distance_in_pc)\n",
    "\n",
    "    lum_real_unit = lum_unit_si(eta=ETA,P=P_SIM,L=L_SIM,nu=NU_OBS,q=p) #W Hz^-1 sr^-1\n",
    "    lum_true = np.asarray(lum)*lum_real_unit # W Hz^-1 sr^-1\n",
    "    lum_jansky = lum_true*(10**26)*np.pi*4 # 10^-26 W Hz^-1, get rid of sr^-1 -> 10^-26 W m^-2 Hz^-1 = 1 jansky \n",
    "    lum_jansky_far = np.asarray(lum_jansky / (4*np.pi*(distance**2)),dtype='float64') #10^-26 W Hz^-1 m^-2\n",
    "    return lum_jansky_far\n",
    "\n",
    "lum1 = total_lums(data_dir,viewing_angle,alpha,kappa,boost=True,first=True)\n",
    "print(lum1)\n",
    "lum_jansky1 = lum_sim_to_jansky(lum1,distance_in_pc) #convert to janskys \n",
    "\n",
    "print(\"Initial lum: \"+str(lum_jansky1[0]*10**3)+\" mJy\")"
   ]
  },
  {
   "cell_type": "markdown",
   "metadata": {},
   "source": [
    "Plot luminosity in mJy:"
   ]
  },
  {
   "cell_type": "code",
   "execution_count": 64,
   "metadata": {},
   "outputs": [],
   "source": [
    "def m_to_arcseconds(m):\n",
    "    acs = (m*100)/(1.496*10**(13))*(1/distance_in_pc)\n",
    "    return acs"
   ]
  },
  {
   "cell_type": "code",
   "execution_count": 65,
   "metadata": {},
   "outputs": [
    {
     "name": "stdout",
     "output_type": "stream",
     "text": [
      "Overwriting existing figure!!!\n"
     ]
    },
    {
     "data": {
      "image/png": "[encoded data removed]",
      "text/plain": [
       "<Figure size 648x648 with 2 Axes>"
      ]
     },
     "metadata": {
      "needs_background": "light"
     },
     "output_type": "display_data"
    }
   ],
   "source": [
    "\n",
    "x = m_to_arcseconds(ax1*L_sim)\n",
    "y = m_to_arcseconds(ax2*L_sim)\n",
    "\n",
    "scale = len(ax2)/(len(ax1)*2)\n",
    "plt.figure(figsize=[9*scale,9])\n",
    "plt.pcolormesh(x,y,(boosted_lum*10**3),cmap='afmhot',shading='auto')\n",
    "plt.pcolormesh(-x,y,(boosted_lum*10**3),cmap='afmhot',shading='auto')\n",
    "cbar = plt.colorbar()\n",
    "cbar.set_label('mJy per pixel')\n",
    "\n",
    "plt.title('jansky image: {:.3f} mJy'.format(frame_flux))\n",
    "ax = plt.gca()\n",
    "ax.set_aspect('equal', adjustable='box')\n",
    "save = True\n",
    "\n",
    "name = 'radio_frame_'+system_name+'_'+str(image_timestep)+'_'+str(nu_observe/(1e9))+str('GHz')\n",
    "save_fig(results_folder,name,overwrite=save)"
   ]
  },
  {
   "cell_type": "code",
   "execution_count": 136,
   "metadata": {},
   "outputs": [
    {
     "data": {
      "text/plain": [
       "(1300, 650)"
      ]
     },
     "execution_count": 136,
     "metadata": {},
     "output_type": "execute_result"
    }
   ],
   "source": [
    "np.shape((boosted_lum*10**3))"
   ]
  },
  {
   "cell_type": "code",
   "execution_count": 137,
   "metadata": {},
   "outputs": [
    {
     "data": {
      "text/plain": [
       "(1300,)"
      ]
     },
     "execution_count": 137,
     "metadata": {},
     "output_type": "execute_result"
    }
   ],
   "source": [
    "np.shape(y)"
   ]
  },
  {
   "cell_type": "markdown",
   "metadata": {},
   "source": [
    "## EZ-BLOB oven"
   ]
  },
  {
   "cell_type": "code",
   "execution_count": 92,
   "metadata": {},
   "outputs": [],
   "source": [
    "from astropy.io import fits"
   ]
  },
  {
   "cell_type": "code",
   "execution_count": 93,
   "metadata": {},
   "outputs": [],
   "source": [
    "ez_filename = 'pixel_lum_'+system_name+'_'+str(image_timestep)+'_'+str(nu_observe/1e9)+'GHz'\n",
    "image_array = load_list(results_folder,ez_filename)\n",
    "image_array_flip = np.concatenate((np.flip(image_array,axis=1),np.array(image_array)),axis=1)"
   ]
  },
  {
   "cell_type": "code",
   "execution_count": 94,
   "metadata": {},
   "outputs": [
    {
     "data": {
      "text/plain": [
       "(1300, 1300)"
      ]
     },
     "execution_count": 94,
     "metadata": {},
     "output_type": "execute_result"
    }
   ],
   "source": [
    "#put this into wsclean command\n",
    "\n",
    "np.shape(image_array_flip)"
   ]
  },
  {
   "cell_type": "code",
   "execution_count": 95,
   "metadata": {},
   "outputs": [],
   "source": [
    "#if it needs reshaping for wsclean (odd numbers)\n",
    "\n",
    "def adjust(image_array,axis='row'): #adds on an extra row\n",
    "    if axis=='row':\n",
    "        z = [0]*(len(image_array.T))\n",
    "        new_image = np.row_stack([z,image_array])\n",
    "    elif axis=='column':\n",
    "        z = [0]*(len(image_array))\n",
    "        new_image = np.column_stack([z,image_array])\n",
    "    return new_image\n",
    "\n",
    "#if its higher resolution on one axis (to make pixels square)\n",
    "def deres_array(image_array,res,axis='row'): #remove every x=res rows from array\n",
    "    new_lum_array = []\n",
    "    if axis=='row':\n",
    "        for index, row in enumerate(image_array):\n",
    "            if index%res==1:\n",
    "                new_lum_array.append(row)\n",
    "    elif axis=='column':\n",
    "        for index, column in enumerate(image_array.T):\n",
    "            if index%res==1:\n",
    "                new_lum_array.append(column)\n",
    "\n",
    "    return new_lum_array"
   ]
  },
  {
   "cell_type": "code",
   "execution_count": 96,
   "metadata": {},
   "outputs": [],
   "source": [
    "def deres_array_check(image):\n",
    "    #check if needs a deres\n",
    "    column_resolution = image[1][5]-image[1][4]\n",
    "    row_resolution = image[5][1]-image[4][1]\n",
    "    if row_resolution==column_resolution:\n",
    "        print('square elements, no need to de-res')\n",
    "        print('Shape: '+str(np.shape(image)))\n",
    "    else:\n",
    "        if row_resolution>column_resolution:\n",
    "            print('deres row')\n",
    "            resolution_difference = row_resolution/column_resolution\n",
    "            image = np.array(deres_array(image,resolution_difference),axis='row')\n",
    "            print('New shape: '+str(np.shape(image)))\n",
    "        else:\n",
    "            print('deres column')\n",
    "            resolution_difference = column_resolution/row_resolution\n",
    "            image = np.array(deres_array(image,resolution_difference),axis='column')\n",
    "            print('New shape: '+str(np.shape(image)))\n",
    "    return image"
   ]
  },
  {
   "cell_type": "code",
   "execution_count": 97,
   "metadata": {},
   "outputs": [],
   "source": [
    "def even_shape_check(image):\n",
    "    row_len = len(image[0])\n",
    "    column_len = len(image.T[0])\n",
    "    even = True\n",
    "    print(row_len)\n",
    "    print(column_len)\n",
    "    print(row_len%2)\n",
    "    print(column_len%2)\n",
    "    if row_len%2==1:\n",
    "        even=False\n",
    "        print('adding another column')\n",
    "        image = adjust(image,axis='column')\n",
    "    if column_len%2==1:\n",
    "        even=False\n",
    "        print('adding another row')\n",
    "        image = adjust(image,axis='row') \n",
    "    if even:\n",
    "        print(\"image has even sides, no need to adjust\")\n",
    "    return image"
   ]
  },
  {
   "cell_type": "code",
   "execution_count": 98,
   "metadata": {},
   "outputs": [
    {
     "name": "stdout",
     "output_type": "stream",
     "text": [
      "(1300, 1300)\n",
      "square elements, no need to de-res\n",
      "Shape: (1300, 1300)\n",
      "1300\n",
      "1300\n",
      "0\n",
      "0\n",
      "image has even sides, no need to adjust\n",
      "(1300, 1300)\n"
     ]
    }
   ],
   "source": [
    "print(np.shape(image_array_flip))\n",
    "#check if needs a deres\n",
    "image_array_flip = deres_array_check(image_array_flip)\n",
    "\n",
    "#check if the shape is even\n",
    "image_array_flip = even_shape_check(image_array_flip)\n",
    "\n",
    "print(np.shape(image_array_flip))"
   ]
  },
  {
   "cell_type": "code",
   "execution_count": 99,
   "metadata": {},
   "outputs": [],
   "source": [
    "hdu = fits.PrimaryHDU(image_array_flip)\n",
    "fits_name = 'ffile_'+system_name+'_'+str(image_timestep)+'_'+str(nu_observe/1e9)+'GHz'\n",
    "\n",
    "exta_descriptors=''\n",
    "\n",
    "save_to = results_folder+'/'+fits_name+exta_descriptors+'.fits'\n",
    "hdu.writeto(save_to,overwrite=True)"
   ]
  },
  {
   "cell_type": "code",
   "execution_count": 100,
   "metadata": {},
   "outputs": [],
   "source": [
    "def unit_print(D,image):\n",
    "    #now check what the resolution size is in real units for wsclean:\n",
    "    ax1_check = D.x1[:len(image[0])]\n",
    "    ax2_check = D.x2[:len(image.T[0])]\n",
    "    x = m_to_arcseconds(ax1_check*L_sim)\n",
    "    y = m_to_arcseconds(ax2_check*L_sim)\n",
    "\n",
    "    print('x-direction res: {:.4f} arcseconds'.format(x[2]-x[1]))\n",
    "    print('y-direction res: {:.4f} arcseconds'.format(y[2]-y[1]))"
   ]
  },
  {
   "cell_type": "code",
   "execution_count": 101,
   "metadata": {},
   "outputs": [
    {
     "name": "stdout",
     "output_type": "stream",
     "text": [
      "x-direction res: 0.0038 arcseconds\n",
      "y-direction res: 0.0038 arcseconds\n"
     ]
    }
   ],
   "source": [
    "unit_print(D,image_array)"
   ]
  },
  {
   "cell_type": "markdown",
   "metadata": {},
   "source": [
    "wsclean -size 800 602 -scale 0.01asec -niter 0 -channels-out 1 -name prediction -data-column DATA -use-wgridder -mem 50 targetdata.ms"
   ]
  },
  {
   "cell_type": "markdown",
   "metadata": {},
   "source": [
    "wsclean -predict -mem 50 -size 602 800 -scale 0.01asec -channels-out 1 -name prediction -use-wgridder targetdata.ms/"
   ]
  },
  {
   "cell_type": "code",
   "execution_count": 102,
   "metadata": {},
   "outputs": [
    {
     "data": {
      "text/plain": [
       "(1300,)"
      ]
     },
     "execution_count": 102,
     "metadata": {},
     "output_type": "execute_result"
    }
   ],
   "source": [
    "np.shape(boosted_lum.T[0])"
   ]
  },
  {
   "cell_type": "code",
   "execution_count": 103,
   "metadata": {},
   "outputs": [
    {
     "data": {
      "text/plain": [
       "650"
      ]
     },
     "execution_count": 103,
     "metadata": {},
     "output_type": "execute_result"
    }
   ],
   "source": [
    "len(ax1)"
   ]
  },
  {
   "cell_type": "code",
   "execution_count": 104,
   "metadata": {},
   "outputs": [
    {
     "ename": "TypeError",
     "evalue": "slice indices must be integers or None or have an __index__ method",
     "output_type": "error",
     "traceback": [
      "\u001b[0;31m---------------------------------------------------------------------------\u001b[0m",
      "\u001b[0;31mTypeError\u001b[0m                                 Traceback (most recent call last)",
      "\u001b[0;32m<ipython-input-104-c7d9b0f21da6>\u001b[0m in \u001b[0;36m<module>\u001b[0;34m\u001b[0m\n\u001b[0;32m----> 1\u001b[0;31m \u001b[0mxx1\u001b[0m \u001b[0;34m=\u001b[0m \u001b[0mD\u001b[0m\u001b[0;34m.\u001b[0m\u001b[0mx1\u001b[0m\u001b[0;34m[\u001b[0m\u001b[0;34m:\u001b[0m\u001b[0mnp\u001b[0m\u001b[0;34m.\u001b[0m\u001b[0mshape\u001b[0m\u001b[0;34m(\u001b[0m\u001b[0mimage_array\u001b[0m\u001b[0;34m[\u001b[0m\u001b[0;36m0\u001b[0m\u001b[0;34m]\u001b[0m\u001b[0;34m)\u001b[0m\u001b[0;34m]\u001b[0m\u001b[0;34m\u001b[0m\u001b[0;34m\u001b[0m\u001b[0m\n\u001b[0m",
      "\u001b[0;31mTypeError\u001b[0m: slice indices must be integers or None or have an __index__ method"
     ]
    }
   ],
   "source": [
    "xx1 = D.x1[:np.shape(image_array[0])]"
   ]
  },
  {
   "cell_type": "code",
   "execution_count": null,
   "metadata": {},
   "outputs": [],
   "source": [
    "def print_and_save(string,output):\n",
    "    print(string)\n",
    "    output+=string\n",
    "    return output\n"
   ]
  },
  {
   "cell_type": "code",
   "execution_count": null,
   "metadata": {},
   "outputs": [
    {
     "name": "stdout",
     "output_type": "stream",
     "text": [
      " Image timestep = 2\n",
      " System = ri0.001_rb0.02_k0.1_lz25_6hhres_newprs2\n"
     ]
    }
   ],
   "source": [
    "output = ''\n",
    "image_timestep=2\n",
    "output = print_and_save(\" Image timestep = \"+str(image_timestep)+\"\\n System = \"+system_name,output)"
   ]
  },
  {
   "cell_type": "code",
   "execution_count": null,
   "metadata": {},
   "outputs": [
    {
     "name": "stdout",
     "output_type": "stream",
     "text": [
      " Image timestep = 2\n",
      " System = ri0.001_rb0.02_k0.1_lz25_6hhres_newprs2\n"
     ]
    }
   ],
   "source": [
    "print(output)\n"
   ]
  },
  {
   "cell_type": "code",
   "execution_count": null,
   "metadata": {},
   "outputs": [],
   "source": []
  },
  {
   "cell_type": "code",
   "execution_count": null,
   "metadata": {},
   "outputs": [],
   "source": []
  }
 ],
 "metadata": {
  "kernelspec": {
   "display_name": "Python 3.6.13 ('lower_python_env')",
   "language": "python",
   "name": "python3"
  },
  "language_info": {
   "codemirror_mode": {
    "name": "ipython",
    "version": 3
   },
   "file_extension": ".py",
   "mimetype": "text/x-python",
   "name": "python",
   "nbconvert_exporter": "python",
   "pygments_lexer": "ipython3",
   "version": "3.6.13"
  },
  "orig_nbformat": 4,
  "vscode": {
   "interpreter": {
    "hash": "d70282c6cd02f5c0fc158c60a8799237b80f36bc43aeaa5fe25dbf81229a8af8"
   }
  }
 },
 "nbformat": 4,
 "nbformat_minor": 2
}
